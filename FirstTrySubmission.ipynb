{
 "cells": [
  {
   "cell_type": "code",
   "execution_count": 1,
   "metadata": {},
   "outputs": [],
   "source": [
    "#Intro"
   ]
  },
  {
   "cell_type": "markdown",
   "metadata": {},
   "source": [
    "In the cell below, the required modules are imported as well as the data is declared and separated into different subsets."
   ]
  },
  {
   "cell_type": "code",
   "execution_count": 2,
   "metadata": {},
   "outputs": [],
   "source": [
    "import numpy as np\n",
    "import matplotlib.pyplot as plt\n",
    "\n",
    "# Dataset given\n",
    "X = np.asarray ([[0.50], [0.75], [1.00], [1.25], [1.50], [1.75], [3.00], \n",
    "                 [4.75], [1.75], [3.25], [5.00], [2.00], [2.25], [2.50], \n",
    "                 [2.75], [3.50], [4.00], [4.25], [4.50], [5.50]])\n",
    "y = np.asarray([0, 0, 0, 0, 0, 0, 1, 0, 1, 0, 1, 0, 1, 0, 1, 1, 1, 1, 1, 1])\n",
    "\n",
    "# Use 3/4 of the data for training\n",
    "X_train = np.asarray(X[0:15])\n",
    "y_train = np.asarray(y[0:15])\n",
    "\n",
    "# Use the last 1/4 of the data for testing\n",
    "X_test = np.asarray (X[15:20])\n",
    "y_test = np.asarray(y[15:20])"
   ]
  },
  {
   "cell_type": "markdown",
   "metadata": {},
   "source": [
    "In this cell, the main class is created"
   ]
  },
  {
   "cell_type": "code",
   "execution_count": 66,
   "metadata": {},
   "outputs": [],
   "source": [
    "class LogisticRegression:\n",
    "    '''\n",
    "    Class to instantiate a logistic regression model.\n",
    "    Require parameters: (Learning rate, Number of iterations, Threshold)\n",
    "    The object of this class will train a logistic regression model using its method `fit`\n",
    "    The method `predict` will predict the classes for a given set.\n",
    "    '''\n",
    "\n",
    "    # Constructor - It sets the basic variables\n",
    "    def __init__(self, learning_rate = 0.01, iteration = 100000, threshold = 0.5):\n",
    "        \n",
    "        # Set the learning rate, number of iterations and threshold\n",
    "        self.learning_rate = learning_rate\n",
    "        self.iteration = iteration\n",
    "        self.threshold = threshold\n",
    "\n",
    "        # Data structure to store the loss of each iteration\n",
    "        self.all_loss_arr = []\n",
    "        \n",
    "        # Data structure to store the gradient of each iteration\n",
    "        self.all_grad_arr = []\n",
    "    \n",
    "        \n",
    "    # Converts the dataset into a matrix for linear system of equations (adding ones)\n",
    "    def convert_matrix(self, X):\n",
    "        total_ones = np.ones((X.shape[0], 1))\n",
    "        return np.concatenate((total_ones, X), axis=1)\n",
    "    \n",
    "    \n",
    "    # Sigmoid function that requires the hypothesis of the linear regression\n",
    "    def sigmoid(self, z):\n",
    "        return 1 / (1 + np.exp(-z))\n",
    "    \n",
    "    \n",
    "    # Calculate the loss of the hypothesis using the cross entropy formula\n",
    "    def cross_entropy(self, hypothesis, y):\n",
    "        return (-y * np.log(hypothesis) - (1 - y) * np.log(1 - hypothesis)).mean()\n",
    "    \n",
    "    \n",
    "    def fit(self, dataset, y):\n",
    "        '''\n",
    "        Train the logistic regression model. It uses helper methods `convert_matrix`, `sigmoid` and `cross_entropy`\n",
    "        Required parameters: X, y\n",
    "        Return: none\n",
    "        '''\n",
    "        \n",
    "        # Convert the dataset into a matrix\n",
    "        dataset = self.convert_matrix(dataset)\n",
    "      \n",
    "        # Initializate the coefficients as (0, 0)\n",
    "        self.theta = np.zeros(dataset.shape[1])\n",
    "        \n",
    "        # Iterate the number of times chosen \n",
    "        for i in range(self.iteration):\n",
    "\n",
    "            # Linear regression hypothesis\n",
    "            z = np.dot(dataset, self.theta)\n",
    "            \n",
    "            # Logistic regression hyphotesis\n",
    "            hypothesis = self.sigmoid(z)\n",
    "            \n",
    "            # Calculate the loss of each hypothesis\n",
    "            loss = hypothesis - y\n",
    "            \n",
    "            # Calculate the batch gradient from the loss\n",
    "            batch_gradient = np.dot(dataset.T, (loss)) / y.size\n",
    "            \n",
    "            # Update the coefficients achieved in this iteration\n",
    "            self.theta -= self.learning_rate * batch_gradient\n",
    "            \n",
    "            # Store the cross entropy cost in data structure (for plotting) - Reduce float precision\n",
    "            cost_value = np.round(self.cross_entropy(hypothesis, y), 8)\n",
    "            self.all_loss_arr.append(cost_value)\n",
    "            \n",
    "            # Store each gradient in data structure\n",
    "            self.all_grad_arr.append(batch_gradient)\n",
    "            \n",
    "    # --------------------------------------------------------------------- #\n",
    "    \n",
    "    def predict(self, test_dataset):\n",
    "        '''\n",
    "        Predict classes of the given data.\n",
    "        Required parameters: y_test\n",
    "        Return: Array of classes\n",
    "        '''\n",
    "        \n",
    "        # Find the logistic regression\n",
    "        test_dataset = self.convert_matrix(test_dataset)\n",
    "        logistic_regression = self.sigmoid(np.dot(test_dataset, self.theta))\n",
    "\n",
    "        # Evaluate with threshold and return\n",
    "        return np.array((logistic_regression >= self.threshold), dtype=int)\n",
    "    \n",
    "    # --------------------------------------------------------------------- #\n",
    "    \n",
    "    def plot_costs(self):\n",
    "        '''\n",
    "        Plot the lost function \n",
    "        '''\n",
    "        plt.figure(figsize=(30,10))\n",
    "        plt.scatter(range(len(self.all_loss_arr)), self.all_loss_arr)\n",
    "        plt.show()\n",
    "        \n",
    "        \n",
    "    def find_converged(self):\n",
    "        '''\n",
    "            FIND AT WHAT ITERATION THE ALGORITHM CONVERGES\n",
    "        '''\n",
    "        lastiteration = self.all_loss_arr[len(self.all_loss_arr) -1]\n",
    "        \n",
    "        for i in range(len(self.all_loss_arr)):\n",
    "                        \n",
    "            # Get the iteration value for question A\n",
    "            if(lastiteration == self.all_loss_arr[i]):\n",
    "                return i\n",
    "\n",
    "       "
   ]
  },
  {
   "cell_type": "markdown",
   "metadata": {},
   "source": [
    "###### Instantiate an object for Logistic Regression\n",
    "The code below creates an object from "
   ]
  },
  {
   "cell_type": "code",
   "execution_count": 114,
   "metadata": {
    "scrolled": false
   },
   "outputs": [
    {
     "name": "stdout",
     "output_type": "stream",
     "text": [
      "Coefficients: [-2.92021477  1.06618642]\n",
      "\n",
      "Predictions: [1 1 1 1 1]\n",
      "\n",
      "Accuracy: 1.0\n"
     ]
    }
   ],
   "source": [
    "# Instantiate a new logistic regression model and fit the data\n",
    "newregression = LogisticRegression(learning_rate = 1.1, iteration = 1800, threshold = 0.5)\n",
    "newregression.fit(X, y)\n",
    "\n",
    "print(\"Coefficients:\", newregression.theta)\n",
    "\n",
    "# Example to calculate the predictions\n",
    "predictions = newregression.predict(X_test)\n",
    "print(\"\\nPredictions:\", predictions)\n",
    "\n",
    "# Get accuracy of the model\n",
    "accuracy_array = (predictions == y_test).mean()\n",
    "print(\"\\nAccuracy:\", accuracy_array)    "
   ]
  },
  {
   "cell_type": "markdown",
   "metadata": {},
   "source": [
    "## 2. Writeup\n",
    "\n",
    "To implement Logistric Regression and I created a class with separate well-structure methods.\n",
    "It requires of 3 initial values to initiate the object: Alpha (learning rate), number of iteraions and a threshold for evaluating the predictions.<br>\n",
    "\n",
    "Right after I call the main method `fit()` and pass the dataset and its classes for training (X and y), it performs basic conversion of the data such as creating the matrix for linear regression and initiates the coefficients (theta). \n",
    "It then starts iterating to find the optimal values for the gradient, coefficients and its cost. \n",
    "1. Calculates the linear regression using the dataset and actual coefficients\n",
    "2. Use the linear regression to calculate the logistic hypothesis with sigmoid formula\n",
    "3. Find the loss of the logistic regression and use it in the Batch Gradient formula\n",
    "4. Update the coefficients with the learning rate and gradient from previous \n",
    "5. Finally, it calculates the cost of the hypothesis in this iteration and appends to a data struture for plotting\n",
    "\n",
    "\n",
    "\n",
    "\n",
    "\n",
    "\n"
   ]
  },
  {
   "cell_type": "markdown",
   "metadata": {},
   "source": [
    "## 3. Question I\n",
    "**After how many iterations, and for which learning rate (α) did your\n",
    "algorithm converge? Plot the loss function with respect to iterations to illustrate this\n",
    "point.**\n",
    "\n",
    "The graph illustrates that the algorithm converged at around 90th iteration using 1.1 for the learning rate (α) . However, `find_converged` method determined the algorithm fully converged at the 282th iteration.\n"
   ]
  },
  {
   "cell_type": "code",
   "execution_count": 115,
   "metadata": {},
   "outputs": [
    {
     "data": {
      "image/png": "[encoded data removed]",
      "text/plain": [
       "<Figure size 2160x720 with 1 Axes>"
      ]
     },
     "metadata": {
      "needs_background": "light"
     },
     "output_type": "display_data"
    },
    {
     "name": "stdout",
     "output_type": "stream",
     "text": [
      "The algorithm fully converged at the 282 iteration\n"
     ]
    }
   ],
   "source": [
    "# Plot the loss function\n",
    "newregression.plot_costs()\n",
    "\n",
    "# Find at what iteration the algorithm converged\n",
    "iterationfound = newregression.find_converged()\n",
    "print(\"The algorithm fully converged at the\", iterationfound, \"iteration\")"
   ]
  },
  {
   "cell_type": "markdown",
   "metadata": {},
   "source": [
    "## 4. Question II\n",
    "**What happens if α is too large? How does this affect the loss function?\n",
    "Plot the loss function with respect to iterations to illustrate this point.**\n",
    "\n",
    "Increasing the learning rate (α) to 1.6 causes that the loss function diverges drastically because it scales the magnitude of the weights updates very slow."
   ]
  },
  {
   "cell_type": "code",
   "execution_count": 136,
   "metadata": {},
   "outputs": [
    {
     "data": {
      "image/png": "[encoded data removed]",
      "text/plain": [
       "<Figure size 2160x720 with 1 Axes>"
      ]
     },
     "metadata": {
      "needs_background": "light"
     },
     "output_type": "display_data"
    },
    {
     "data": {
      "image/png": "[encoded data removed]",
      "text/plain": [
       "<Figure size 432x288 with 1 Axes>"
      ]
     },
     "metadata": {
      "needs_background": "light"
     },
     "output_type": "display_data"
    }
   ],
   "source": [
    "# Instantiate a new logistic regression model and fit the data\n",
    "model_b = LogisticRegression(learning_rate=1.6, iteration=1800)\n",
    "model_b.fit(X_train, y_train)\n",
    "\n",
    "# Plot the loss function\n",
    "model_b.plot_costs()\n",
    "\n",
    "\n",
    "#try to plot the weird learning rate change\n",
    "final = np.array(model_b.all_grad_arr)\n",
    "\n",
    "plt.scatter(final[:,1], final[:,0])\n",
    "plt.show()\n"
   ]
  },
  {
   "cell_type": "markdown",
   "metadata": {},
   "source": [
    "## 5. Question III\n",
    "\n",
    "**Assume that you are applying logistic regression to the iris (flower)\n",
    "dataset, as in the previous assignment. Answer the following questions:<br>**\n",
    "- **(a) How would your hypothesis function change in this case and why?**\n",
    "\n",
    "The iris dataset has the characteristic of having four different attributes. \n",
    "\n",
    "- **(b) How would you utilize your implementation of logistic regression in order toperform (multi-class) classification on the iris dataset? Include some pseudocode while discussing your approach.**\n",
    "\n",
    "\n"
   ]
  },
  {
   "cell_type": "code",
   "execution_count": null,
   "metadata": {},
   "outputs": [],
   "source": []
  },
  {
   "cell_type": "markdown",
   "metadata": {},
   "source": [
    "Get explanation:  https://www.jeremyjordan.me/nn-learning-rate/"
   ]
  }
 ],
 "metadata": {
  "kernelspec": {
   "display_name": "Python 3",
   "language": "python",
   "name": "python3"
  },
  "language_info": {
   "codemirror_mode": {
    "name": "ipython",
    "version": 3
   },
   "file_extension": ".py",
   "mimetype": "text/x-python",
   "name": "python",
   "nbconvert_exporter": "python",
   "pygments_lexer": "ipython3",
   "version": "3.6.9"
  }
 },
 "nbformat": 4,
 "nbformat_minor": 4
}
